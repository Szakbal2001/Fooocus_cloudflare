{
  "nbformat": 4,
  "nbformat_minor": 0,
  "metadata": {
    "colab": {
      "provenance": [],
      "authorship_tag": "ABX9TyOBkwoL5kZK2ZtDiTtUA9Ix",
      "include_colab_link": true
    },
    "kernelspec": {
      "name": "python3",
      "display_name": "Python 3"
    },
    "language_info": {
      "name": "python"
    }
  },
  "cells": [
    {
      "cell_type": "markdown",
      "metadata": {
        "id": "view-in-github",
        "colab_type": "text"
      },
      "source": [
        "<a href=\"https://colab.research.google.com/github/thekingbalXD/Fooocus_cloudflare/blob/main/Fooocus_Cloudflare.ipynb\" target=\"_parent\"><img src=\"https://colab.research.google.com/assets/colab-badge.svg\" alt=\"Open In Colab\"/></a>"
      ]
    },
    {
      "cell_type": "code",
      "execution_count": null,
      "metadata": {
        "id": "bLc4tes5tyuO"
      },
      "outputs": [],
      "source": [
        "!wget https://github.com/cloudflare/cloudflared/releases/latest/download/cloudflared-linux-amd64.deb\n",
        "!dpkg -i cloudflared-linux-amd64.deb\n",
        "!pip install pygit2==1.12.2\n",
        "!pip install torchsde==0.2.5\n",
        "%cd /content\n",
        "!git clone https://github.com/thekingbalXD/Fooocus_cloudflare.git\n",
        "%cd /content/Fooocus_cloudflare\n",
        "!python entry_with_update.py --share --always-high-vram"
      ]
    }
  ]
}